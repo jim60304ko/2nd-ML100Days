{
 "cells": [
  {
   "cell_type": "markdown",
   "metadata": {},
   "source": [
    "## Work\n",
    "1. 請嘗試將 preproc_x 替換成以每筆資料的 min/max 進行標準化至 -1 ~ 1 間，再進行訓練\n",
    "2. 請嘗試將 mlp 疊更深 (e.g 5~10 層)，進行訓練後觀察 learning curve 的走勢\n",
    "3. (optional) 請改用 GPU 進行訓練 (如果你有 GPU 的話)，比較使用 CPU 與 GPU 的訓練速度"
   ]
  },
  {
   "cell_type": "code",
   "execution_count": 1,
   "metadata": {},
   "outputs": [
    {
     "data": {
      "text/plain": [
       "'\\nYour code here (optional)\\n確認硬體資源\\n'"
      ]
     },
     "execution_count": 1,
     "metadata": {},
     "output_type": "execute_result"
    }
   ],
   "source": [
    "## \n",
    "\"\"\"\n",
    "Your code here (optional)\n",
    "確認硬體資源\n",
    "\"\"\""
   ]
  },
  {
   "cell_type": "code",
   "execution_count": 2,
   "metadata": {},
   "outputs": [
    {
     "name": "stderr",
     "output_type": "stream",
     "text": [
      "Using TensorFlow backend.\n"
     ]
    }
   ],
   "source": [
    "import os\n",
    "import keras\n",
    "\n",
    "# 請嘗試設定 GPU：os.environ\n"
   ]
  },
  {
   "cell_type": "code",
   "execution_count": 3,
   "metadata": {},
   "outputs": [],
   "source": [
    "train, test = keras.datasets.cifar10.load_data()"
   ]
  },
  {
   "cell_type": "code",
   "execution_count": 4,
   "metadata": {},
   "outputs": [],
   "source": [
    "## 資料前處理\n",
    "\"\"\"\n",
    "Your code here\n",
    "\"\"\"\n",
    "def preproc_x(x,flatten=True):\n",
    "    x=x/255\n",
    "    if flatten:\n",
    "        x=x.reshape(len(x),-1)\n",
    "    return x\n",
    "def preproc_y(y,num_classes=10):\n",
    "    if y.shape[-1]==1:\n",
    "        y=keras.utils.to_categorical(y,num_classes)\n",
    "    return y"
   ]
  },
  {
   "cell_type": "code",
   "execution_count": 5,
   "metadata": {},
   "outputs": [],
   "source": [
    "x_train, y_train = train\n",
    "x_test, y_test = test\n",
    "\n",
    "# Preproc the inputs\n",
    "x_train = preproc_x(x_train)\n",
    "x_test = preproc_x(x_test)\n",
    "\n",
    "# Preprc the outputs\n",
    "y_train = preproc_y(y_train)\n",
    "y_test = preproc_y(y_test)"
   ]
  },
  {
   "cell_type": "code",
   "execution_count": 6,
   "metadata": {},
   "outputs": [
    {
     "name": "stdout",
     "output_type": "stream",
     "text": [
      "WARNING:tensorflow:From C:\\Users\\jim60\\Anaconda3\\lib\\site-packages\\tensorflow\\python\\framework\\op_def_library.py:263: colocate_with (from tensorflow.python.framework.ops) is deprecated and will be removed in a future version.\n",
      "Instructions for updating:\n",
      "Colocations handled automatically by placer.\n",
      "_________________________________________________________________\n",
      "Layer (type)                 Output Shape              Param #   \n",
      "=================================================================\n",
      "input_1 (InputLayer)         (None, 3072)              0         \n",
      "_________________________________________________________________\n",
      "hidden_layer1 (Dense)        (None, 512)               1573376   \n",
      "_________________________________________________________________\n",
      "hidden_layer2 (Dense)        (None, 256)               131328    \n",
      "_________________________________________________________________\n",
      "hidden_layer3 (Dense)        (None, 128)               32896     \n",
      "_________________________________________________________________\n",
      "output (Dense)               (None, 10)                1290      \n",
      "=================================================================\n",
      "Total params: 1,738,890\n",
      "Trainable params: 1,738,890\n",
      "Non-trainable params: 0\n",
      "_________________________________________________________________\n"
     ]
    }
   ],
   "source": [
    "\"\"\"Code Here\n",
    "建立你的神經網路\n",
    "\"\"\"\n",
    "def build_mlp(input_shape,output_units=10,num_neurons=[512,256,128]):\n",
    "    input_layer = keras.layers.Input(input_shape)\n",
    "    \n",
    "    for i,n_units in enumerate(num_neurons):\n",
    "        if i==0:\n",
    "            x=keras.layers.Dense(units=n_units,activation=\"relu\",name=\"hidden_layer\"+str(i+1))(input_layer)\n",
    "        else:\n",
    "            x = keras.layers.Dense(units=n_units, activation=\"relu\", name=\"hidden_layer\"+str(i+1))(x)\n",
    "    out = keras.layers.Dense(units=output_units, activation=\"softmax\", name=\"output\")(x)\n",
    "    \n",
    "    model = keras.models.Model(inputs=[input_layer], outputs=[out])\n",
    "    return model\n",
    "model = build_mlp(input_shape=x_train.shape[1:])\n",
    "model.summary()"
   ]
  },
  {
   "cell_type": "code",
   "execution_count": 7,
   "metadata": {},
   "outputs": [],
   "source": [
    "## 超參數設定\n",
    "LEARNING_RATE = 0.001\n",
    "EPOCHS = 100\n",
    "BATCH_SIZE = 256"
   ]
  },
  {
   "cell_type": "code",
   "execution_count": 8,
   "metadata": {},
   "outputs": [],
   "source": [
    "optimizer = keras.optimizers.Adam(lr=LEARNING_RATE)\n",
    "model.compile(loss=\"categorical_crossentropy\", metrics=[\"accuracy\"], optimizer=optimizer)"
   ]
  },
  {
   "cell_type": "code",
   "execution_count": 9,
   "metadata": {},
   "outputs": [
    {
     "name": "stdout",
     "output_type": "stream",
     "text": [
      "WARNING:tensorflow:From C:\\Users\\jim60\\Anaconda3\\lib\\site-packages\\tensorflow\\python\\ops\\math_ops.py:3066: to_int32 (from tensorflow.python.ops.math_ops) is deprecated and will be removed in a future version.\n",
      "Instructions for updating:\n",
      "Use tf.cast instead.\n",
      "Train on 50000 samples, validate on 10000 samples\n",
      "Epoch 1/100\n",
      "50000/50000 [==============================] - 10s 198us/step - loss: 1.9210 - acc: 0.3065 - val_loss: 1.7440 - val_acc: 0.3738\n",
      "Epoch 2/100\n",
      "50000/50000 [==============================] - 10s 190us/step - loss: 1.7021 - acc: 0.3891 - val_loss: 1.6660 - val_acc: 0.4057\n",
      "Epoch 3/100\n",
      "50000/50000 [==============================] - 11s 215us/step - loss: 1.6169 - acc: 0.4237 - val_loss: 1.5825 - val_acc: 0.4337\n",
      "Epoch 4/100\n",
      "50000/50000 [==============================] - 11s 214us/step - loss: 1.5468 - acc: 0.4481 - val_loss: 1.5684 - val_acc: 0.4476\n",
      "Epoch 5/100\n",
      "50000/50000 [==============================] - 10s 209us/step - loss: 1.4993 - acc: 0.4635 - val_loss: 1.5035 - val_acc: 0.4676\n",
      "Epoch 6/100\n",
      "50000/50000 [==============================] - 10s 202us/step - loss: 1.4590 - acc: 0.4804 - val_loss: 1.5420 - val_acc: 0.4524\n",
      "Epoch 7/100\n",
      "50000/50000 [==============================] - 10s 208us/step - loss: 1.4416 - acc: 0.4861 - val_loss: 1.4757 - val_acc: 0.4740\n",
      "Epoch 8/100\n",
      "50000/50000 [==============================] - 10s 206us/step - loss: 1.4082 - acc: 0.4967 - val_loss: 1.4250 - val_acc: 0.4928\n",
      "Epoch 9/100\n",
      "50000/50000 [==============================] - 10s 205us/step - loss: 1.3761 - acc: 0.5086 - val_loss: 1.4250 - val_acc: 0.4985\n",
      "Epoch 10/100\n",
      "50000/50000 [==============================] - 10s 207us/step - loss: 1.3481 - acc: 0.5194 - val_loss: 1.4498 - val_acc: 0.4821\n",
      "Epoch 11/100\n",
      "50000/50000 [==============================] - 11s 212us/step - loss: 1.3249 - acc: 0.5287 - val_loss: 1.4315 - val_acc: 0.4919\n",
      "Epoch 12/100\n",
      "50000/50000 [==============================] - 11s 211us/step - loss: 1.3017 - acc: 0.5348 - val_loss: 1.4101 - val_acc: 0.4944\n",
      "Epoch 13/100\n",
      "50000/50000 [==============================] - 10s 209us/step - loss: 1.2730 - acc: 0.5455 - val_loss: 1.3986 - val_acc: 0.5076\n",
      "Epoch 14/100\n",
      "50000/50000 [==============================] - 10s 209us/step - loss: 1.2503 - acc: 0.5518 - val_loss: 1.3891 - val_acc: 0.5113\n",
      "Epoch 15/100\n",
      "50000/50000 [==============================] - 11s 215us/step - loss: 1.2339 - acc: 0.5596 - val_loss: 1.3595 - val_acc: 0.5274\n",
      "Epoch 16/100\n",
      "50000/50000 [==============================] - 11s 220us/step - loss: 1.2045 - acc: 0.5714 - val_loss: 1.3812 - val_acc: 0.5168\n",
      "Epoch 17/100\n",
      "50000/50000 [==============================] - 11s 219us/step - loss: 1.1839 - acc: 0.5773 - val_loss: 1.3643 - val_acc: 0.5226\n",
      "Epoch 18/100\n",
      "50000/50000 [==============================] - 11s 217us/step - loss: 1.1690 - acc: 0.5846 - val_loss: 1.3997 - val_acc: 0.5077\n",
      "Epoch 19/100\n",
      "50000/50000 [==============================] - 11s 216us/step - loss: 1.1413 - acc: 0.5936 - val_loss: 1.3732 - val_acc: 0.5128\n",
      "Epoch 20/100\n",
      "50000/50000 [==============================] - 11s 216us/step - loss: 1.1301 - acc: 0.5979 - val_loss: 1.3635 - val_acc: 0.5198\n",
      "Epoch 21/100\n",
      "50000/50000 [==============================] - 11s 212us/step - loss: 1.1063 - acc: 0.6054 - val_loss: 1.3904 - val_acc: 0.5182\n",
      "Epoch 22/100\n",
      "50000/50000 [==============================] - 11s 211us/step - loss: 1.0970 - acc: 0.6100 - val_loss: 1.3880 - val_acc: 0.5192\n",
      "Epoch 23/100\n",
      "50000/50000 [==============================] - 11s 210us/step - loss: 1.0744 - acc: 0.6187 - val_loss: 1.3893 - val_acc: 0.5233\n",
      "Epoch 24/100\n",
      "50000/50000 [==============================] - 10s 209us/step - loss: 1.0473 - acc: 0.6248 - val_loss: 1.4108 - val_acc: 0.5217\n",
      "Epoch 25/100\n",
      "50000/50000 [==============================] - 11s 211us/step - loss: 1.0347 - acc: 0.6305 - val_loss: 1.4058 - val_acc: 0.5167\n",
      "Epoch 26/100\n",
      "50000/50000 [==============================] - 11s 211us/step - loss: 1.0244 - acc: 0.6343 - val_loss: 1.4616 - val_acc: 0.5108\n",
      "Epoch 27/100\n",
      "50000/50000 [==============================] - 11s 212us/step - loss: 1.0031 - acc: 0.6428 - val_loss: 1.4442 - val_acc: 0.5068\n",
      "Epoch 28/100\n",
      "50000/50000 [==============================] - 11s 212us/step - loss: 0.9798 - acc: 0.6504 - val_loss: 1.3986 - val_acc: 0.5273\n",
      "Epoch 29/100\n",
      "50000/50000 [==============================] - 11s 212us/step - loss: 0.9609 - acc: 0.6570 - val_loss: 1.4408 - val_acc: 0.5214\n",
      "Epoch 30/100\n",
      "50000/50000 [==============================] - 11s 212us/step - loss: 0.9497 - acc: 0.6605 - val_loss: 1.4385 - val_acc: 0.5190\n",
      "Epoch 31/100\n",
      "50000/50000 [==============================] - 11s 211us/step - loss: 0.9293 - acc: 0.6691 - val_loss: 1.4606 - val_acc: 0.5223\n",
      "Epoch 32/100\n",
      "50000/50000 [==============================] - 11s 212us/step - loss: 0.9187 - acc: 0.6721 - val_loss: 1.4463 - val_acc: 0.5241\n",
      "Epoch 33/100\n",
      "50000/50000 [==============================] - 11s 212us/step - loss: 0.9100 - acc: 0.6759 - val_loss: 1.4910 - val_acc: 0.5184\n",
      "Epoch 34/100\n",
      "50000/50000 [==============================] - 11s 213us/step - loss: 0.8739 - acc: 0.6879 - val_loss: 1.4713 - val_acc: 0.5197\n",
      "Epoch 35/100\n",
      "50000/50000 [==============================] - 11s 211us/step - loss: 0.8644 - acc: 0.6909 - val_loss: 1.5319 - val_acc: 0.5162\n",
      "Epoch 36/100\n",
      "50000/50000 [==============================] - 11s 212us/step - loss: 0.8615 - acc: 0.6921 - val_loss: 1.4634 - val_acc: 0.5253\n",
      "Epoch 37/100\n",
      "50000/50000 [==============================] - 11s 211us/step - loss: 0.8325 - acc: 0.7009 - val_loss: 1.5065 - val_acc: 0.5240\n",
      "Epoch 38/100\n",
      "50000/50000 [==============================] - 11s 211us/step - loss: 0.8109 - acc: 0.7092 - val_loss: 1.5115 - val_acc: 0.5262\n",
      "Epoch 39/100\n",
      "50000/50000 [==============================] - 11s 210us/step - loss: 0.7962 - acc: 0.7148 - val_loss: 1.5517 - val_acc: 0.5257\n",
      "Epoch 40/100\n",
      "50000/50000 [==============================] - 10s 210us/step - loss: 0.7877 - acc: 0.7203 - val_loss: 1.5788 - val_acc: 0.5183\n",
      "Epoch 41/100\n",
      "50000/50000 [==============================] - 10s 208us/step - loss: 0.7667 - acc: 0.7268 - val_loss: 1.5799 - val_acc: 0.5192\n",
      "Epoch 42/100\n",
      "50000/50000 [==============================] - 11s 210us/step - loss: 0.7590 - acc: 0.7282 - val_loss: 1.5913 - val_acc: 0.5215\n",
      "Epoch 43/100\n",
      "50000/50000 [==============================] - 11s 212us/step - loss: 0.7360 - acc: 0.7366 - val_loss: 1.6412 - val_acc: 0.5164\n",
      "Epoch 44/100\n",
      "50000/50000 [==============================] - 11s 218us/step - loss: 0.7204 - acc: 0.7431 - val_loss: 1.6246 - val_acc: 0.5200\n",
      "Epoch 45/100\n",
      "50000/50000 [==============================] - 11s 212us/step - loss: 0.7148 - acc: 0.7425 - val_loss: 1.6722 - val_acc: 0.5214\n",
      "Epoch 46/100\n",
      "50000/50000 [==============================] - 11s 213us/step - loss: 0.6972 - acc: 0.7522 - val_loss: 1.6846 - val_acc: 0.5211\n",
      "Epoch 47/100\n",
      "50000/50000 [==============================] - 11s 210us/step - loss: 0.6929 - acc: 0.7513 - val_loss: 1.6749 - val_acc: 0.5242\n",
      "Epoch 48/100\n",
      "50000/50000 [==============================] - 11s 211us/step - loss: 0.6636 - acc: 0.7638 - val_loss: 1.7447 - val_acc: 0.5168\n",
      "Epoch 49/100\n",
      "50000/50000 [==============================] - 11s 213us/step - loss: 0.6663 - acc: 0.7620 - val_loss: 1.7378 - val_acc: 0.5269\n",
      "Epoch 50/100\n",
      "50000/50000 [==============================] - 11s 212us/step - loss: 0.6360 - acc: 0.7724 - val_loss: 1.7815 - val_acc: 0.5181\n",
      "Epoch 51/100\n",
      "50000/50000 [==============================] - 11s 212us/step - loss: 0.6293 - acc: 0.7731 - val_loss: 1.8076 - val_acc: 0.5145\n",
      "Epoch 52/100\n",
      "50000/50000 [==============================] - 11s 215us/step - loss: 0.6218 - acc: 0.7779 - val_loss: 1.8517 - val_acc: 0.5197\n",
      "Epoch 53/100\n",
      "50000/50000 [==============================] - 11s 217us/step - loss: 0.6081 - acc: 0.7853 - val_loss: 1.8778 - val_acc: 0.5154\n",
      "Epoch 54/100\n",
      "50000/50000 [==============================] - 11s 213us/step - loss: 0.5938 - acc: 0.7885 - val_loss: 1.8864 - val_acc: 0.5110\n",
      "Epoch 55/100\n",
      "50000/50000 [==============================] - 11s 215us/step - loss: 0.5829 - acc: 0.7915 - val_loss: 1.9145 - val_acc: 0.5113\n",
      "Epoch 56/100\n",
      "50000/50000 [==============================] - 11s 213us/step - loss: 0.5885 - acc: 0.7883 - val_loss: 1.9707 - val_acc: 0.5073\n"
     ]
    },
    {
     "name": "stdout",
     "output_type": "stream",
     "text": [
      "Epoch 57/100\n",
      "50000/50000 [==============================] - 10s 198us/step - loss: 0.5722 - acc: 0.7959 - val_loss: 1.8945 - val_acc: 0.5171\n",
      "Epoch 58/100\n",
      "50000/50000 [==============================] - 10s 200us/step - loss: 0.5695 - acc: 0.7957 - val_loss: 2.0026 - val_acc: 0.5069\n",
      "Epoch 59/100\n",
      "50000/50000 [==============================] - 10s 199us/step - loss: 0.5416 - acc: 0.8054 - val_loss: 1.9728 - val_acc: 0.5156\n",
      "Epoch 60/100\n",
      "50000/50000 [==============================] - 10s 199us/step - loss: 0.5310 - acc: 0.8124 - val_loss: 2.0032 - val_acc: 0.5180\n",
      "Epoch 61/100\n",
      "50000/50000 [==============================] - 10s 200us/step - loss: 0.5206 - acc: 0.8153 - val_loss: 2.0695 - val_acc: 0.5099\n",
      "Epoch 62/100\n",
      "50000/50000 [==============================] - 10s 201us/step - loss: 0.5119 - acc: 0.8170 - val_loss: 2.0910 - val_acc: 0.5124\n",
      "Epoch 63/100\n",
      "50000/50000 [==============================] - 10s 201us/step - loss: 0.4974 - acc: 0.8211 - val_loss: 2.1234 - val_acc: 0.5077\n",
      "Epoch 64/100\n",
      "50000/50000 [==============================] - 10s 201us/step - loss: 0.5030 - acc: 0.8200 - val_loss: 2.1586 - val_acc: 0.5141\n",
      "Epoch 65/100\n",
      "50000/50000 [==============================] - 10s 199us/step - loss: 0.4969 - acc: 0.8223 - val_loss: 2.1374 - val_acc: 0.5104\n",
      "Epoch 66/100\n",
      "50000/50000 [==============================] - 10s 200us/step - loss: 0.4974 - acc: 0.8210 - val_loss: 2.1555 - val_acc: 0.5164\n",
      "Epoch 67/100\n",
      "50000/50000 [==============================] - 10s 199us/step - loss: 0.4723 - acc: 0.8329 - val_loss: 2.2573 - val_acc: 0.5050\n",
      "Epoch 68/100\n",
      "50000/50000 [==============================] - 11s 221us/step - loss: 0.4623 - acc: 0.8356 - val_loss: 2.2336 - val_acc: 0.5075\n",
      "Epoch 69/100\n",
      "50000/50000 [==============================] - 10s 201us/step - loss: 0.4610 - acc: 0.8350 - val_loss: 2.2306 - val_acc: 0.5132\n",
      "Epoch 70/100\n",
      "50000/50000 [==============================] - 9s 189us/step - loss: 0.4504 - acc: 0.8405 - val_loss: 2.2845 - val_acc: 0.5190\n",
      "Epoch 71/100\n",
      "50000/50000 [==============================] - 9s 190us/step - loss: 0.4324 - acc: 0.8455 - val_loss: 2.3562 - val_acc: 0.5065\n",
      "Epoch 72/100\n",
      "50000/50000 [==============================] - 9s 190us/step - loss: 0.4379 - acc: 0.8431 - val_loss: 2.3764 - val_acc: 0.4976\n",
      "Epoch 73/100\n",
      "50000/50000 [==============================] - 10s 191us/step - loss: 0.4235 - acc: 0.8473 - val_loss: 2.3297 - val_acc: 0.5118\n",
      "Epoch 74/100\n",
      "50000/50000 [==============================] - 10s 194us/step - loss: 0.4073 - acc: 0.8543 - val_loss: 2.3819 - val_acc: 0.5146\n",
      "Epoch 75/100\n",
      "50000/50000 [==============================] - 10s 194us/step - loss: 0.4222 - acc: 0.8501 - val_loss: 2.4340 - val_acc: 0.5097\n",
      "Epoch 76/100\n",
      "50000/50000 [==============================] - 10s 194us/step - loss: 0.4038 - acc: 0.8566 - val_loss: 2.4515 - val_acc: 0.5133\n",
      "Epoch 77/100\n",
      "50000/50000 [==============================] - 10s 192us/step - loss: 0.4180 - acc: 0.8505 - val_loss: 2.4450 - val_acc: 0.5021\n",
      "Epoch 78/100\n",
      "50000/50000 [==============================] - 10s 193us/step - loss: 0.4186 - acc: 0.8495 - val_loss: 2.5660 - val_acc: 0.5089\n",
      "Epoch 79/100\n",
      "50000/50000 [==============================] - 10s 193us/step - loss: 0.4009 - acc: 0.8558 - val_loss: 2.5061 - val_acc: 0.5047\n",
      "Epoch 80/100\n",
      "50000/50000 [==============================] - 10s 197us/step - loss: 0.3731 - acc: 0.8665 - val_loss: 2.5274 - val_acc: 0.5104\n",
      "Epoch 81/100\n",
      "50000/50000 [==============================] - 10s 195us/step - loss: 0.3727 - acc: 0.8655 - val_loss: 2.5566 - val_acc: 0.5060\n",
      "Epoch 82/100\n",
      "50000/50000 [==============================] - 10s 195us/step - loss: 0.3834 - acc: 0.8626 - val_loss: 2.5334 - val_acc: 0.5063\n",
      "Epoch 83/100\n",
      "50000/50000 [==============================] - 10s 193us/step - loss: 0.3690 - acc: 0.8690 - val_loss: 2.5817 - val_acc: 0.5122\n",
      "Epoch 84/100\n",
      "50000/50000 [==============================] - 10s 193us/step - loss: 0.3618 - acc: 0.8709 - val_loss: 2.6427 - val_acc: 0.5046\n",
      "Epoch 85/100\n",
      "50000/50000 [==============================] - 10s 193us/step - loss: 0.3443 - acc: 0.8766 - val_loss: 2.6492 - val_acc: 0.5054\n",
      "Epoch 86/100\n",
      "50000/50000 [==============================] - 10s 193us/step - loss: 0.3634 - acc: 0.8688 - val_loss: 2.6405 - val_acc: 0.5047\n",
      "Epoch 87/100\n",
      "50000/50000 [==============================] - 10s 190us/step - loss: 0.3457 - acc: 0.8766 - val_loss: 2.7063 - val_acc: 0.5046\n",
      "Epoch 88/100\n",
      "50000/50000 [==============================] - 9s 189us/step - loss: 0.3410 - acc: 0.8768 - val_loss: 2.9176 - val_acc: 0.4952\n",
      "Epoch 89/100\n",
      "50000/50000 [==============================] - 10s 191us/step - loss: 0.3693 - acc: 0.8673 - val_loss: 2.7657 - val_acc: 0.5000\n",
      "Epoch 90/100\n",
      "50000/50000 [==============================] - 10s 192us/step - loss: 0.3332 - acc: 0.8806 - val_loss: 2.8025 - val_acc: 0.5059\n",
      "Epoch 91/100\n",
      "50000/50000 [==============================] - 10s 192us/step - loss: 0.3215 - acc: 0.8852 - val_loss: 2.8642 - val_acc: 0.5050\n",
      "Epoch 92/100\n",
      "50000/50000 [==============================] - 10s 193us/step - loss: 0.3161 - acc: 0.8876 - val_loss: 2.8560 - val_acc: 0.5010\n",
      "Epoch 93/100\n",
      "50000/50000 [==============================] - 10s 195us/step - loss: 0.3241 - acc: 0.8831 - val_loss: 3.0078 - val_acc: 0.4950\n",
      "Epoch 94/100\n",
      "50000/50000 [==============================] - 10s 198us/step - loss: 0.3232 - acc: 0.8842 - val_loss: 2.9269 - val_acc: 0.5012\n",
      "Epoch 95/100\n",
      "50000/50000 [==============================] - 10s 191us/step - loss: 0.3011 - acc: 0.8921 - val_loss: 2.8732 - val_acc: 0.4987\n",
      "Epoch 96/100\n",
      "50000/50000 [==============================] - 10s 196us/step - loss: 0.3111 - acc: 0.8908 - val_loss: 2.9411 - val_acc: 0.5008\n",
      "Epoch 97/100\n",
      "50000/50000 [==============================] - 9s 190us/step - loss: 0.3106 - acc: 0.8884 - val_loss: 2.9920 - val_acc: 0.5015\n",
      "Epoch 98/100\n",
      "50000/50000 [==============================] - 10s 191us/step - loss: 0.3130 - acc: 0.8871 - val_loss: 2.9897 - val_acc: 0.5087\n",
      "Epoch 99/100\n",
      "50000/50000 [==============================] - 10s 198us/step - loss: 0.2922 - acc: 0.8959 - val_loss: 2.9560 - val_acc: 0.5092\n",
      "Epoch 100/100\n",
      "50000/50000 [==============================] - 10s 192us/step - loss: 0.3054 - acc: 0.8915 - val_loss: 3.0250 - val_acc: 0.5025\n"
     ]
    },
    {
     "data": {
      "text/plain": [
       "<keras.callbacks.History at 0x1fdacc40668>"
      ]
     },
     "execution_count": 9,
     "metadata": {},
     "output_type": "execute_result"
    }
   ],
   "source": [
    "model.fit(x_train, y_train, \n",
    "          epochs=EPOCHS, \n",
    "          batch_size=BATCH_SIZE, \n",
    "          validation_data=(x_test, y_test), \n",
    "          shuffle=True)"
   ]
  },
  {
   "cell_type": "code",
   "execution_count": 11,
   "metadata": {},
   "outputs": [
    {
     "data": {
      "image/png": "[encoded data removed]",
      "text/plain": [
       "<Figure size 432x288 with 1 Axes>"
      ]
     },
     "metadata": {
      "needs_background": "light"
     },
     "output_type": "display_data"
    },
    {
     "data": {
      "image/png": "[encoded data removed]",
      "text/plain": [
       "<Figure size 432x288 with 1 Axes>"
      ]
     },
     "metadata": {
      "needs_background": "light"
     },
     "output_type": "display_data"
    }
   ],
   "source": [
    "import matplotlib.pyplot as plt\n",
    "\n",
    "\n",
    "train_loss = model.history.history[\"loss\"]\n",
    "valid_loss = model.history.history[\"val_loss\"]\n",
    "\n",
    "train_acc = model.history.history[\"acc\"]\n",
    "valid_acc = model.history.history[\"val_acc\"]\n",
    "\n",
    "plt.plot(range(len(train_loss)), train_loss, label=\"train loss\")\n",
    "plt.plot(range(len(valid_loss)), valid_loss, label=\"valid loss\")\n",
    "plt.legend()\n",
    "plt.title(\"Loss\")\n",
    "plt.show()\n",
    "\n",
    "plt.plot(range(len(train_acc)), train_acc, label=\"train accuracy\")\n",
    "plt.plot(range(len(valid_acc)), valid_acc, label=\"valid accuracy\")\n",
    "plt.legend()\n",
    "plt.title(\"Accuracy\")\n",
    "plt.show()"
   ]
  }
 ],
 "metadata": {
  "kernelspec": {
   "display_name": "Python 3",
   "language": "python",
   "name": "python3"
  },
  "language_info": {
   "codemirror_mode": {
    "name": "ipython",
    "version": 3
   },
   "file_extension": ".py",
   "mimetype": "text/x-python",
   "name": "python",
   "nbconvert_exporter": "python",
   "pygments_lexer": "ipython3",
   "version": "3.6.8"
  }
 },
 "nbformat": 4,
 "nbformat_minor": 2
}
