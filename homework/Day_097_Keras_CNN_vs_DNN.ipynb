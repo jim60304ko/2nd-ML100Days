{
 "cells": [
  {
   "cell_type": "code",
   "execution_count": 1,
   "metadata": {},
   "outputs": [
    {
     "name": "stderr",
     "output_type": "stream",
     "text": [
      "Using TensorFlow backend.\n"
     ]
    }
   ],
   "source": [
    "import keras\n",
    "from keras.datasets import cifar10\n",
    "from keras.preprocessing.image import ImageDataGenerator\n",
    "from keras.models import Sequential\n",
    "from keras.layers import Dense, Dropout, Activation, Flatten\n",
    "from keras.layers import Conv2D, MaxPooling2D\n",
    "from keras.optimizers import RMSprop, Adam\n",
    "import os"
   ]
  },
  {
   "cell_type": "code",
   "execution_count": 2,
   "metadata": {},
   "outputs": [
    {
     "name": "stdout",
     "output_type": "stream",
     "text": [
      "x_train shape: (50000, 32, 32, 3)\n",
      "50000 train samples\n",
      "10000 test samples\n"
     ]
    }
   ],
   "source": [
    "batch_size = 128 # batch 的大小，如果出現 OOM error，請降低這個值\n",
    "num_classes = 10 # 類別的數量，Cifar 10 共有 10 個類別\n",
    "epochs = 20 # 訓練的 epochs 數量\n",
    "\n",
    "# 讀取資料並檢視\n",
    "(x_train, y_train), (x_test, y_test) = cifar10.load_data()\n",
    "print('x_train shape:', x_train.shape)\n",
    "print(x_train.shape[0], 'train samples')\n",
    "print(x_test.shape[0], 'test samples')\n",
    "\n",
    "# 對 label 進行 one-hot encoding (y_trian 原本是純數字)\n",
    "y_train = keras.utils.to_categorical(y_train, num_classes)\n",
    "y_test = keras.utils.to_categorical(y_test, num_classes)"
   ]
  },
  {
   "cell_type": "markdown",
   "metadata": {},
   "source": [
    "## 首先我們使用一般的 DNN (MLP) 來訓練\n",
    "由於 DNN 只能輸入一維的資料，我們要先將影像進行攤平，若 (50000, 32, 32, 3) 的影像，攤平後會變成 (50000, 32*32*3) = (50000, 3072)"
   ]
  },
  {
   "cell_type": "code",
   "execution_count": 3,
   "metadata": {},
   "outputs": [
    {
     "name": "stdout",
     "output_type": "stream",
     "text": [
      "50000 train samples\n",
      "10000 test samples\n"
     ]
    }
   ],
   "source": [
    "# 將資料攤平成一維資料\n",
    "x_train = x_train.reshape(50000, 3072) \n",
    "x_test = x_test.reshape(10000, 3072)\n",
    "\n",
    "# 將資料變為 float32 並標準化\n",
    "x_train = x_train.astype('float32')\n",
    "x_test = x_test.astype('float32')\n",
    "x_train /= 255\n",
    "x_test /= 255\n",
    "print(x_train.shape[0], 'train samples')\n",
    "print(x_test.shape[0], 'test samples')"
   ]
  },
  {
   "cell_type": "code",
   "execution_count": 4,
   "metadata": {},
   "outputs": [
    {
     "name": "stdout",
     "output_type": "stream",
     "text": [
      "WARNING:tensorflow:From C:\\Users\\jim60\\Anaconda3\\lib\\site-packages\\tensorflow\\python\\framework\\op_def_library.py:263: colocate_with (from tensorflow.python.framework.ops) is deprecated and will be removed in a future version.\n",
      "Instructions for updating:\n",
      "Colocations handled automatically by placer.\n",
      "WARNING:tensorflow:From C:\\Users\\jim60\\Anaconda3\\lib\\site-packages\\keras\\backend\\tensorflow_backend.py:3445: calling dropout (from tensorflow.python.ops.nn_ops) with keep_prob is deprecated and will be removed in a future version.\n",
      "Instructions for updating:\n",
      "Please use `rate` instead of `keep_prob`. Rate should be set to `rate = 1 - keep_prob`.\n",
      "_________________________________________________________________\n",
      "Layer (type)                 Output Shape              Param #   \n",
      "=================================================================\n",
      "dense_1 (Dense)              (None, 512)               1573376   \n",
      "_________________________________________________________________\n",
      "dropout_1 (Dropout)          (None, 512)               0         \n",
      "_________________________________________________________________\n",
      "dense_2 (Dense)              (None, 512)               262656    \n",
      "_________________________________________________________________\n",
      "dropout_2 (Dropout)          (None, 512)               0         \n",
      "_________________________________________________________________\n",
      "dense_3 (Dense)              (None, 10)                5130      \n",
      "=================================================================\n",
      "Total params: 1,841,162\n",
      "Trainable params: 1,841,162\n",
      "Non-trainable params: 0\n",
      "_________________________________________________________________\n",
      "WARNING:tensorflow:From C:\\Users\\jim60\\Anaconda3\\lib\\site-packages\\tensorflow\\python\\ops\\math_ops.py:3066: to_int32 (from tensorflow.python.ops.math_ops) is deprecated and will be removed in a future version.\n",
      "Instructions for updating:\n",
      "Use tf.cast instead.\n",
      "Train on 50000 samples, validate on 10000 samples\n",
      "Epoch 1/20\n",
      "50000/50000 [==============================] - 15s 304us/step - loss: 2.4218 - acc: 0.2453 - val_loss: 1.8907 - val_acc: 0.2972\n",
      "Epoch 2/20\n",
      "50000/50000 [==============================] - 15s 291us/step - loss: 1.8577 - acc: 0.3265 - val_loss: 1.7901 - val_acc: 0.3485\n",
      "Epoch 3/20\n",
      "50000/50000 [==============================] - 16s 311us/step - loss: 1.7787 - acc: 0.3590 - val_loss: 1.7564 - val_acc: 0.3702\n",
      "Epoch 4/20\n",
      "50000/50000 [==============================] - 16s 313us/step - loss: 1.7356 - acc: 0.3751 - val_loss: 1.6780 - val_acc: 0.4014\n",
      "Epoch 5/20\n",
      "50000/50000 [==============================] - 16s 312us/step - loss: 1.6990 - acc: 0.3901 - val_loss: 1.6244 - val_acc: 0.4209\n",
      "Epoch 6/20\n",
      "50000/50000 [==============================] - 16s 314us/step - loss: 1.6723 - acc: 0.3988 - val_loss: 1.6233 - val_acc: 0.4224\n",
      "Epoch 7/20\n",
      "50000/50000 [==============================] - 16s 313us/step - loss: 1.6437 - acc: 0.4118 - val_loss: 1.6026 - val_acc: 0.4309\n",
      "Epoch 8/20\n",
      "50000/50000 [==============================] - 16s 314us/step - loss: 1.6320 - acc: 0.4156 - val_loss: 1.5594 - val_acc: 0.4512\n",
      "Epoch 9/20\n",
      "50000/50000 [==============================] - 16s 314us/step - loss: 1.6162 - acc: 0.4219 - val_loss: 1.5892 - val_acc: 0.4414\n",
      "Epoch 10/20\n",
      "50000/50000 [==============================] - 16s 314us/step - loss: 1.6069 - acc: 0.4227 - val_loss: 1.5836 - val_acc: 0.4284\n",
      "Epoch 11/20\n",
      "50000/50000 [==============================] - 16s 314us/step - loss: 1.5883 - acc: 0.4316 - val_loss: 1.5053 - val_acc: 0.4765\n",
      "Epoch 12/20\n",
      "50000/50000 [==============================] - 16s 314us/step - loss: 1.5804 - acc: 0.4342 - val_loss: 1.5123 - val_acc: 0.4731\n",
      "Epoch 13/20\n",
      "50000/50000 [==============================] - 16s 313us/step - loss: 1.5710 - acc: 0.4392 - val_loss: 1.5400 - val_acc: 0.4489\n",
      "Epoch 14/20\n",
      "50000/50000 [==============================] - 16s 315us/step - loss: 1.5597 - acc: 0.4450 - val_loss: 1.5302 - val_acc: 0.4510\n",
      "Epoch 15/20\n",
      "50000/50000 [==============================] - 16s 315us/step - loss: 1.5547 - acc: 0.4459 - val_loss: 1.5204 - val_acc: 0.4520\n",
      "Epoch 16/20\n",
      "50000/50000 [==============================] - 16s 314us/step - loss: 1.5448 - acc: 0.4465 - val_loss: 1.4752 - val_acc: 0.4861\n",
      "Epoch 17/20\n",
      "50000/50000 [==============================] - 16s 314us/step - loss: 1.5427 - acc: 0.4497 - val_loss: 1.5897 - val_acc: 0.4381\n",
      "Epoch 18/20\n",
      "50000/50000 [==============================] - 16s 314us/step - loss: 1.5334 - acc: 0.4541 - val_loss: 1.5205 - val_acc: 0.4696\n",
      "Epoch 19/20\n",
      "50000/50000 [==============================] - 16s 317us/step - loss: 1.5285 - acc: 0.4543 - val_loss: 1.5031 - val_acc: 0.4670\n",
      "Epoch 20/20\n",
      "50000/50000 [==============================] - 16s 312us/step - loss: 1.5248 - acc: 0.4593 - val_loss: 1.4984 - val_acc: 0.4760\n",
      "Test loss: 1.4983549577713013\n",
      "Test accuracy: 0.476\n"
     ]
    }
   ],
   "source": [
    "model = Sequential()\n",
    "model.add(Dense(512, activation='relu', input_shape=(3072,)))\n",
    "model.add(Dropout(0.2))\n",
    "model.add(Dense(512, activation='relu'))\n",
    "model.add(Dropout(0.2))\n",
    "model.add(Dense(num_classes, activation='softmax'))\n",
    "\n",
    "model.summary()\n",
    "\n",
    "model.compile(loss='categorical_crossentropy',\n",
    "              optimizer=RMSprop(),\n",
    "              metrics=['accuracy'])\n",
    "\n",
    "history = model.fit(x_train, y_train,\n",
    "                    batch_size=batch_size,\n",
    "                    epochs=epochs,\n",
    "                    verbose=1,\n",
    "                    validation_data=(x_test, y_test))\n",
    "score = model.evaluate(x_test, y_test, verbose=0)\n",
    "print('Test loss:', score[0])\n",
    "print('Test accuracy:', score[1])"
   ]
  },
  {
   "cell_type": "markdown",
   "metadata": {},
   "source": [
    "## 接下來我們使用 CNN 來訓練神經網路\n",
    "CNN 的原理非常適合處理影像類的資料，就讓我們來看看，同樣的訓練條件，CNN 是否顯著優於 DNN 呢?"
   ]
  },
  {
   "cell_type": "code",
   "execution_count": 6,
   "metadata": {},
   "outputs": [
    {
     "name": "stdout",
     "output_type": "stream",
     "text": [
      "x_train shape: (50000, 32, 32, 3)\n",
      "50000 train samples\n",
      "10000 test samples\n"
     ]
    }
   ],
   "source": [
    "(x_train, y_train), (x_test, y_test) = cifar10.load_data()\n",
    "print('x_train shape:', x_train.shape)\n",
    "print(x_train.shape[0], 'train samples')\n",
    "print(x_test.shape[0], 'test samples')\n",
    "x_train = x_train.astype('float32')\n",
    "x_test = x_test.astype('float32')\n",
    "x_train /= 255\n",
    "x_test /= 255\n",
    "\n",
    "# Convert class vectors to binary class matrices.\n",
    "y_train = keras.utils.to_categorical(y_train, num_classes)\n",
    "y_test = keras.utils.to_categorical(y_test, num_classes)"
   ]
  },
  {
   "cell_type": "code",
   "execution_count": 6,
   "metadata": {},
   "outputs": [
    {
     "name": "stdout",
     "output_type": "stream",
     "text": [
      "_________________________________________________________________\n",
      "Layer (type)                 Output Shape              Param #   \n",
      "=================================================================\n",
      "conv2d_1 (Conv2D)            (None, 32, 32, 32)        896       \n",
      "_________________________________________________________________\n",
      "activation_1 (Activation)    (None, 32, 32, 32)        0         \n",
      "_________________________________________________________________\n",
      "conv2d_2 (Conv2D)            (None, 30, 30, 32)        9248      \n",
      "_________________________________________________________________\n",
      "activation_2 (Activation)    (None, 30, 30, 32)        0         \n",
      "_________________________________________________________________\n",
      "max_pooling2d_1 (MaxPooling2 (None, 15, 15, 32)        0         \n",
      "_________________________________________________________________\n",
      "dropout_3 (Dropout)          (None, 15, 15, 32)        0         \n",
      "_________________________________________________________________\n",
      "conv2d_3 (Conv2D)            (None, 15, 15, 64)        18496     \n",
      "_________________________________________________________________\n",
      "activation_3 (Activation)    (None, 15, 15, 64)        0         \n",
      "_________________________________________________________________\n",
      "conv2d_4 (Conv2D)            (None, 13, 13, 64)        36928     \n",
      "_________________________________________________________________\n",
      "activation_4 (Activation)    (None, 13, 13, 64)        0         \n",
      "_________________________________________________________________\n",
      "max_pooling2d_2 (MaxPooling2 (None, 6, 6, 64)          0         \n",
      "_________________________________________________________________\n",
      "dropout_4 (Dropout)          (None, 6, 6, 64)          0         \n",
      "_________________________________________________________________\n",
      "flatten_1 (Flatten)          (None, 2304)              0         \n",
      "_________________________________________________________________\n",
      "dense_4 (Dense)              (None, 512)               1180160   \n",
      "_________________________________________________________________\n",
      "activation_5 (Activation)    (None, 512)               0         \n",
      "_________________________________________________________________\n",
      "dropout_5 (Dropout)          (None, 512)               0         \n",
      "_________________________________________________________________\n",
      "dense_5 (Dense)              (None, 10)                5130      \n",
      "_________________________________________________________________\n",
      "activation_6 (Activation)    (None, 10)                0         \n",
      "=================================================================\n",
      "Total params: 1,250,858\n",
      "Trainable params: 1,250,858\n",
      "Non-trainable params: 0\n",
      "_________________________________________________________________\n",
      "Train on 50000 samples, validate on 10000 samples\n",
      "Epoch 1/20\n",
      "50000/50000 [==============================] - 185s 4ms/step - loss: 1.7811 - acc: 0.3539 - val_loss: 1.6358 - val_acc: 0.4295\n",
      "Epoch 2/20\n",
      "50000/50000 [==============================] - 185s 4ms/step - loss: 1.3446 - acc: 0.5219 - val_loss: 1.2407 - val_acc: 0.5537\n",
      "Epoch 3/20\n",
      "50000/50000 [==============================] - 184s 4ms/step - loss: 1.1473 - acc: 0.5944 - val_loss: 1.5839 - val_acc: 0.4726\n",
      "Epoch 4/20\n",
      "50000/50000 [==============================] - 181s 4ms/step - loss: 1.0136 - acc: 0.6463 - val_loss: 0.9341 - val_acc: 0.6809\n",
      "Epoch 5/20\n",
      "50000/50000 [==============================] - 183s 4ms/step - loss: 0.9171 - acc: 0.6790 - val_loss: 0.8502 - val_acc: 0.7135\n",
      "Epoch 6/20\n",
      "50000/50000 [==============================] - 181s 4ms/step - loss: 0.8434 - acc: 0.7068 - val_loss: 0.7644 - val_acc: 0.7357\n",
      "Epoch 7/20\n",
      "50000/50000 [==============================] - 184s 4ms/step - loss: 0.7894 - acc: 0.7268 - val_loss: 0.7900 - val_acc: 0.7316\n",
      "Epoch 8/20\n",
      "50000/50000 [==============================] - 135s 3ms/step - loss: 0.7457 - acc: 0.7434 - val_loss: 0.8062 - val_acc: 0.7243\n",
      "Epoch 9/20\n",
      "50000/50000 [==============================] - 123s 2ms/step - loss: 0.7144 - acc: 0.7551 - val_loss: 0.6999 - val_acc: 0.7641\n",
      "Epoch 10/20\n",
      "50000/50000 [==============================] - 124s 2ms/step - loss: 0.6773 - acc: 0.7666 - val_loss: 0.7613 - val_acc: 0.7509\n",
      "Epoch 11/20\n",
      "50000/50000 [==============================] - 125s 3ms/step - loss: 0.6623 - acc: 0.7723 - val_loss: 0.7642 - val_acc: 0.7680\n",
      "Epoch 12/20\n",
      "50000/50000 [==============================] - 128s 3ms/step - loss: 0.6493 - acc: 0.7792 - val_loss: 0.7181 - val_acc: 0.7587\n",
      "Epoch 13/20\n",
      "50000/50000 [==============================] - 130s 3ms/step - loss: 0.6328 - acc: 0.7838 - val_loss: 0.6647 - val_acc: 0.7737\n",
      "Epoch 14/20\n",
      "50000/50000 [==============================] - 130s 3ms/step - loss: 0.6330 - acc: 0.7858 - val_loss: 0.6923 - val_acc: 0.7783\n",
      "Epoch 15/20\n",
      "50000/50000 [==============================] - 129s 3ms/step - loss: 0.6206 - acc: 0.7912 - val_loss: 0.7264 - val_acc: 0.7649\n",
      "Epoch 16/20\n",
      "50000/50000 [==============================] - 129s 3ms/step - loss: 0.6197 - acc: 0.7915 - val_loss: 0.7110 - val_acc: 0.7733\n",
      "Epoch 17/20\n",
      "50000/50000 [==============================] - 131s 3ms/step - loss: 0.6133 - acc: 0.7968 - val_loss: 0.6559 - val_acc: 0.7922\n",
      "Epoch 18/20\n",
      "50000/50000 [==============================] - 139s 3ms/step - loss: 0.6115 - acc: 0.7987 - val_loss: 0.7228 - val_acc: 0.7902\n",
      "Epoch 19/20\n",
      "50000/50000 [==============================] - 135s 3ms/step - loss: 0.6095 - acc: 0.7992 - val_loss: 0.6773 - val_acc: 0.7773\n",
      "Epoch 20/20\n",
      "50000/50000 [==============================] - 137s 3ms/step - loss: 0.6133 - acc: 0.7975 - val_loss: 0.7202 - val_acc: 0.7888\n",
      "Test loss: 0.7201825217723846\n",
      "Test accuracy: 0.7888\n"
     ]
    }
   ],
   "source": [
    "model = Sequential()\n",
    "model.add(Conv2D(32, (3, 3), padding='same',\n",
    "                 input_shape=x_train.shape[1:]))\n",
    "model.add(Activation('relu'))\n",
    "model.add(Conv2D(32, (3, 3)))\n",
    "model.add(Activation('relu'))\n",
    "model.add(MaxPooling2D(pool_size=(2, 2)))\n",
    "model.add(Dropout(0.25))\n",
    "\n",
    "model.add(Conv2D(64, (3, 3), padding='same'))\n",
    "model.add(Activation('relu'))\n",
    "model.add(Conv2D(64, (3, 3)))\n",
    "model.add(Activation('relu'))\n",
    "model.add(MaxPooling2D(pool_size=(2, 2)))\n",
    "model.add(Dropout(0.25))\n",
    "\n",
    "model.add(Flatten())\n",
    "model.add(Dense(512))\n",
    "model.add(Activation('relu'))\n",
    "model.add(Dropout(0.5))\n",
    "model.add(Dense(num_classes))\n",
    "model.add(Activation('softmax'))\n",
    "model.summary()\n",
    "\n",
    "model.compile(loss='categorical_crossentropy',\n",
    "              optimizer=RMSprop(),\n",
    "              metrics=['accuracy'])\n",
    "\n",
    "history = model.fit(x_train, y_train,\n",
    "                    batch_size=batch_size,\n",
    "                    epochs=epochs,\n",
    "                    verbose=1,\n",
    "                    validation_data=(x_test, y_test))\n",
    "score = model.evaluate(x_test, y_test, verbose=0)\n",
    "print('Test loss:', score[0])\n",
    "print('Test accuracy:', score[1])"
   ]
  },
  {
   "cell_type": "markdown",
   "metadata": {},
   "source": [
    "## 同樣運算 10 個 epochs，但 CNN 在 test data 的準確率顯著優於 DNN!"
   ]
  },
  {
   "cell_type": "markdown",
   "metadata": {},
   "source": [
    "## 作業\n",
    "1. 請試著調整各個超參數，並說明那些超參數對於結果有明顯的影響?\n",
    "2. CNN 與 DNN 哪個模型的參數數量比較多? 造成參數的數量不同的原因在哪?"
   ]
  },
  {
   "cell_type": "markdown",
   "metadata": {},
   "source": [
    "1. epochs、optimizers、batch_size等。\n",
    "2. DNN較多，因為CNN較DNN多了池化層，因此能夠減少參數量。"
   ]
  }
 ],
 "metadata": {
  "kernelspec": {
   "display_name": "Python 3",
   "language": "python",
   "name": "python3"
  },
  "language_info": {
   "codemirror_mode": {
    "name": "ipython",
    "version": 3
   },
   "file_extension": ".py",
   "mimetype": "text/x-python",
   "name": "python",
   "nbconvert_exporter": "python",
   "pygments_lexer": "ipython3",
   "version": "3.6.8"
  }
 },
 "nbformat": 4,
 "nbformat_minor": 2
}
