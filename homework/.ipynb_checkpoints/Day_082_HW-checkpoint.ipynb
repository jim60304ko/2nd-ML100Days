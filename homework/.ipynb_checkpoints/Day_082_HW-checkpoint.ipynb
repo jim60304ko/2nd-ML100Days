{
 "cells": [
  {
   "cell_type": "markdown",
   "metadata": {},
   "source": [
    "## Work\n",
    "1. 請比較使用不同層數以及不同 Dropout rate 對訓練的效果\n",
    "2. 將 optimizer 改成使用 Adam 並加上適當的 dropout rate 檢視結果"
   ]
  },
  {
   "cell_type": "code",
   "execution_count": 1,
   "metadata": {},
   "outputs": [
    {
     "name": "stderr",
     "output_type": "stream",
     "text": [
      "Using TensorFlow backend.\n"
     ]
    }
   ],
   "source": [
    "import os\n",
    "import keras\n",
    "import itertools\n",
    "# Disable GPU\n",
    "os.environ[\"CUDA_VISIBLE_DEVICES\"] = \"\""
   ]
  },
  {
   "cell_type": "code",
   "execution_count": 2,
   "metadata": {},
   "outputs": [],
   "source": [
    "train, test = keras.datasets.cifar10.load_data()"
   ]
  },
  {
   "cell_type": "code",
   "execution_count": 3,
   "metadata": {},
   "outputs": [],
   "source": [
    "## 資料前處理\n",
    "def preproc_x(x, flatten=True):\n",
    "    x = x / 255.\n",
    "    if flatten:\n",
    "        x = x.reshape((len(x), -1))\n",
    "    return x\n",
    "\n",
    "def preproc_y(y, num_classes=10):\n",
    "    if y.shape[-1] == 1:\n",
    "        y = keras.utils.to_categorical(y, num_classes)\n",
    "    return y    "
   ]
  },
  {
   "cell_type": "code",
   "execution_count": 4,
   "metadata": {},
   "outputs": [],
   "source": [
    "x_train, y_train = train\n",
    "x_test, y_test = test\n",
    "\n",
    "# Preproc the inputs\n",
    "x_train = preproc_x(x_train)\n",
    "x_test = preproc_x(x_test)\n",
    "\n",
    "# Preprc the outputs\n",
    "y_train = preproc_y(y_train)\n",
    "y_test = preproc_y(y_test)"
   ]
  },
  {
   "cell_type": "code",
   "execution_count": 10,
   "metadata": {},
   "outputs": [],
   "source": [
    "from keras.layers import Dropout\n",
    "def build_mlp(input_shape, output_units=10, num_neurons=[512, 256, 128], drp_ratio=0.2):\n",
    "    \"\"\"Code Here\n",
    "    建立你的神經網路\n",
    "    \"\"\"\n",
    "    input_layer=keras.layers.Input(input_shape)\n",
    "    for i,n_units in enumerate(num_neurons):\n",
    "        if i==0:\n",
    "            x = keras.layers.Dense(units=n_units,\n",
    "                                   activation=\"relu\",\n",
    "                                   name=\"hidden_layer\"+str(i+1))(input_layer)\n",
    "            x = Dropout(drp_ratio)(x)\n",
    "        else:\n",
    "            x = keras.layers.Dense(units=n_units,\n",
    "                                   activation=\"relu\",\n",
    "                                   name=\"hidden_layer\"+str(i+1))(x)\n",
    "            x = Dropout(drp_ratio)(x)\n",
    "    out = keras.layers.Dense(units=output_units, activation=\"softmax\", name=\"output\")(x)\n",
    "    model = keras.models.Model(inputs=[input_layer], outputs=[out])\n",
    "    return model"
   ]
  },
  {
   "cell_type": "code",
   "execution_count": 11,
   "metadata": {},
   "outputs": [],
   "source": [
    "\"\"\"Code Here\n",
    "設定超參數\n",
    "\"\"\"\n",
    "LearningRate=1e-3\n",
    "Epochs=50\n",
    "BatchSize=256\n",
    "Momentum=0.95\n",
    "Dropout_exp=0.25"
   ]
  },
  {
   "cell_type": "code",
   "execution_count": 12,
   "metadata": {
    "scrolled": true
   },
   "outputs": [
    {
     "name": "stdout",
     "output_type": "stream",
     "text": [
      "WARNING:tensorflow:From C:\\Users\\jim60\\Anaconda3\\lib\\site-packages\\tensorflow\\python\\framework\\op_def_library.py:263: colocate_with (from tensorflow.python.framework.ops) is deprecated and will be removed in a future version.\n",
      "Instructions for updating:\n",
      "Colocations handled automatically by placer.\n",
      "WARNING:tensorflow:From C:\\Users\\jim60\\Anaconda3\\lib\\site-packages\\keras\\backend\\tensorflow_backend.py:3445: calling dropout (from tensorflow.python.ops.nn_ops) with keep_prob is deprecated and will be removed in a future version.\n",
      "Instructions for updating:\n",
      "Please use `rate` instead of `keep_prob`. Rate should be set to `rate = 1 - keep_prob`.\n",
      "_________________________________________________________________\n",
      "Layer (type)                 Output Shape              Param #   \n",
      "=================================================================\n",
      "input_1 (InputLayer)         (None, 3072)              0         \n",
      "_________________________________________________________________\n",
      "hidden_layer1 (Dense)        (None, 512)               1573376   \n",
      "_________________________________________________________________\n",
      "dropout_1 (Dropout)          (None, 512)               0         \n",
      "_________________________________________________________________\n",
      "hidden_layer2 (Dense)        (None, 256)               131328    \n",
      "_________________________________________________________________\n",
      "dropout_2 (Dropout)          (None, 256)               0         \n",
      "_________________________________________________________________\n",
      "hidden_layer3 (Dense)        (None, 128)               32896     \n",
      "_________________________________________________________________\n",
      "dropout_3 (Dropout)          (None, 128)               0         \n",
      "_________________________________________________________________\n",
      "output (Dense)               (None, 10)                1290      \n",
      "=================================================================\n",
      "Total params: 1,738,890\n",
      "Trainable params: 1,738,890\n",
      "Non-trainable params: 0\n",
      "_________________________________________________________________\n",
      "WARNING:tensorflow:From C:\\Users\\jim60\\Anaconda3\\lib\\site-packages\\tensorflow\\python\\ops\\math_ops.py:3066: to_int32 (from tensorflow.python.ops.math_ops) is deprecated and will be removed in a future version.\n",
      "Instructions for updating:\n",
      "Use tf.cast instead.\n",
      "Train on 50000 samples, validate on 10000 samples\n",
      "Epoch 1/50\n",
      "50000/50000 [==============================] - 12s 246us/step - loss: 2.1742 - acc: 0.1919 - val_loss: 1.9724 - val_acc: 0.3078\n",
      "Epoch 2/50\n",
      "50000/50000 [==============================] - 11s 225us/step - loss: 1.9797 - acc: 0.2784 - val_loss: 1.8560 - val_acc: 0.3496\n",
      "Epoch 3/50\n",
      "50000/50000 [==============================] - 12s 245us/step - loss: 1.8995 - acc: 0.3144 - val_loss: 1.7953 - val_acc: 0.3654\n",
      "Epoch 4/50\n",
      "50000/50000 [==============================] - 12s 244us/step - loss: 1.8458 - acc: 0.3349 - val_loss: 1.7396 - val_acc: 0.3829\n",
      "Epoch 5/50\n",
      "50000/50000 [==============================] - 12s 249us/step - loss: 1.8038 - acc: 0.3520 - val_loss: 1.7033 - val_acc: 0.4006\n",
      "Epoch 6/50\n",
      "50000/50000 [==============================] - 11s 227us/step - loss: 1.7680 - acc: 0.3618 - val_loss: 1.6710 - val_acc: 0.4122\n",
      "Epoch 7/50\n",
      "50000/50000 [==============================] - 11s 227us/step - loss: 1.7416 - acc: 0.3738 - val_loss: 1.6365 - val_acc: 0.4211\n",
      "Epoch 8/50\n",
      "50000/50000 [==============================] - 13s 259us/step - loss: 1.7144 - acc: 0.3855 - val_loss: 1.6173 - val_acc: 0.4281\n",
      "Epoch 9/50\n",
      "50000/50000 [==============================] - 16s 319us/step - loss: 1.6911 - acc: 0.3959 - val_loss: 1.5912 - val_acc: 0.4338\n",
      "Epoch 10/50\n",
      "50000/50000 [==============================] - 16s 317us/step - loss: 1.6704 - acc: 0.4059 - val_loss: 1.5682 - val_acc: 0.4448\n",
      "Epoch 11/50\n",
      "50000/50000 [==============================] - 16s 323us/step - loss: 1.6495 - acc: 0.4117 - val_loss: 1.5573 - val_acc: 0.4529\n",
      "Epoch 12/50\n",
      "50000/50000 [==============================] - 13s 262us/step - loss: 1.6363 - acc: 0.4182 - val_loss: 1.5340 - val_acc: 0.4590\n",
      "Epoch 13/50\n",
      "50000/50000 [==============================] - 16s 313us/step - loss: 1.6154 - acc: 0.4255 - val_loss: 1.5195 - val_acc: 0.4637\n",
      "Epoch 14/50\n",
      "50000/50000 [==============================] - 16s 312us/step - loss: 1.5992 - acc: 0.4309 - val_loss: 1.5152 - val_acc: 0.4620\n",
      "Epoch 15/50\n",
      "50000/50000 [==============================] - 15s 308us/step - loss: 1.5859 - acc: 0.4368 - val_loss: 1.4972 - val_acc: 0.4702\n",
      "Epoch 16/50\n",
      "50000/50000 [==============================] - 15s 306us/step - loss: 1.5702 - acc: 0.4390 - val_loss: 1.4906 - val_acc: 0.4753\n",
      "Epoch 17/50\n",
      "50000/50000 [==============================] - 15s 308us/step - loss: 1.5563 - acc: 0.4459 - val_loss: 1.4853 - val_acc: 0.4692\n",
      "Epoch 18/50\n",
      "50000/50000 [==============================] - 15s 306us/step - loss: 1.5454 - acc: 0.4474 - val_loss: 1.4749 - val_acc: 0.4764\n",
      "Epoch 19/50\n",
      "50000/50000 [==============================] - 15s 307us/step - loss: 1.5324 - acc: 0.4524 - val_loss: 1.4653 - val_acc: 0.4765\n",
      "Epoch 20/50\n",
      "50000/50000 [==============================] - 16s 312us/step - loss: 1.5244 - acc: 0.4550 - val_loss: 1.4468 - val_acc: 0.4895\n",
      "Epoch 21/50\n",
      "50000/50000 [==============================] - 15s 309us/step - loss: 1.5100 - acc: 0.4636 - val_loss: 1.4449 - val_acc: 0.4854\n",
      "Epoch 22/50\n",
      "50000/50000 [==============================] - 16s 311us/step - loss: 1.5013 - acc: 0.4653 - val_loss: 1.4487 - val_acc: 0.4865\n",
      "Epoch 23/50\n",
      "50000/50000 [==============================] - 16s 315us/step - loss: 1.4855 - acc: 0.4663 - val_loss: 1.4252 - val_acc: 0.4930\n",
      "Epoch 24/50\n",
      "50000/50000 [==============================] - 15s 307us/step - loss: 1.4763 - acc: 0.4738 - val_loss: 1.4226 - val_acc: 0.4921\n",
      "Epoch 25/50\n",
      "50000/50000 [==============================] - 15s 294us/step - loss: 1.4698 - acc: 0.4781 - val_loss: 1.4129 - val_acc: 0.4953\n",
      "Epoch 26/50\n",
      "50000/50000 [==============================] - 14s 284us/step - loss: 1.4627 - acc: 0.4763 - val_loss: 1.4083 - val_acc: 0.5026\n",
      "Epoch 27/50\n",
      "50000/50000 [==============================] - 14s 287us/step - loss: 1.4511 - acc: 0.4834 - val_loss: 1.4056 - val_acc: 0.5002\n",
      "Epoch 28/50\n",
      "50000/50000 [==============================] - 12s 237us/step - loss: 1.4446 - acc: 0.4841 - val_loss: 1.3950 - val_acc: 0.4985\n",
      "Epoch 29/50\n",
      "50000/50000 [==============================] - 13s 269us/step - loss: 1.4331 - acc: 0.4887 - val_loss: 1.3908 - val_acc: 0.5027\n",
      "Epoch 30/50\n",
      "50000/50000 [==============================] - 14s 272us/step - loss: 1.4255 - acc: 0.4908 - val_loss: 1.3881 - val_acc: 0.5039\n",
      "Epoch 31/50\n",
      "50000/50000 [==============================] - 14s 277us/step - loss: 1.4167 - acc: 0.4968 - val_loss: 1.3779 - val_acc: 0.5101\n",
      "Epoch 32/50\n",
      "50000/50000 [==============================] - 13s 263us/step - loss: 1.4063 - acc: 0.4977 - val_loss: 1.3824 - val_acc: 0.5081\n",
      "Epoch 33/50\n",
      "50000/50000 [==============================] - 14s 275us/step - loss: 1.3992 - acc: 0.5019 - val_loss: 1.3831 - val_acc: 0.5001\n",
      "Epoch 34/50\n",
      "50000/50000 [==============================] - 13s 260us/step - loss: 1.3940 - acc: 0.5019 - val_loss: 1.3662 - val_acc: 0.5151\n",
      "Epoch 35/50\n",
      "50000/50000 [==============================] - 11s 219us/step - loss: 1.3844 - acc: 0.5061 - val_loss: 1.3574 - val_acc: 0.5132\n",
      "Epoch 36/50\n",
      "50000/50000 [==============================] - 11s 214us/step - loss: 1.3809 - acc: 0.5046 - val_loss: 1.3644 - val_acc: 0.5104\n",
      "Epoch 37/50\n",
      "50000/50000 [==============================] - 11s 220us/step - loss: 1.3700 - acc: 0.5098 - val_loss: 1.3634 - val_acc: 0.5134\n",
      "Epoch 38/50\n",
      "50000/50000 [==============================] - 10s 191us/step - loss: 1.3640 - acc: 0.5125 - val_loss: 1.3479 - val_acc: 0.5193\n",
      "Epoch 39/50\n",
      "50000/50000 [==============================] - 9s 184us/step - loss: 1.3553 - acc: 0.5147 - val_loss: 1.3623 - val_acc: 0.5079\n",
      "Epoch 40/50\n",
      "50000/50000 [==============================] - 9s 185us/step - loss: 1.3504 - acc: 0.5160 - val_loss: 1.3459 - val_acc: 0.5181\n",
      "Epoch 41/50\n",
      "50000/50000 [==============================] - 9s 184us/step - loss: 1.3409 - acc: 0.5222 - val_loss: 1.3435 - val_acc: 0.5192\n",
      "Epoch 42/50\n"
     ]
    },
    {
     "name": "stdout",
     "output_type": "stream",
     "text": [
      "50000/50000 [==============================] - 9s 183us/step - loss: 1.3338 - acc: 0.5240 - val_loss: 1.3384 - val_acc: 0.5175\n",
      "Epoch 43/50\n",
      "50000/50000 [==============================] - 9s 182us/step - loss: 1.3303 - acc: 0.5248 - val_loss: 1.3347 - val_acc: 0.5243\n",
      "Epoch 44/50\n",
      "50000/50000 [==============================] - 9s 180us/step - loss: 1.3261 - acc: 0.5270 - val_loss: 1.3303 - val_acc: 0.5193\n",
      "Epoch 45/50\n",
      "50000/50000 [==============================] - 9s 180us/step - loss: 1.3169 - acc: 0.5289 - val_loss: 1.3369 - val_acc: 0.5192\n",
      "Epoch 46/50\n",
      "50000/50000 [==============================] - 9s 180us/step - loss: 1.3108 - acc: 0.5319 - val_loss: 1.3247 - val_acc: 0.5262\n",
      "Epoch 47/50\n",
      "50000/50000 [==============================] - 9s 181us/step - loss: 1.3023 - acc: 0.5350 - val_loss: 1.3249 - val_acc: 0.5303\n",
      "Epoch 48/50\n",
      "50000/50000 [==============================] - 9s 179us/step - loss: 1.2976 - acc: 0.5349 - val_loss: 1.3196 - val_acc: 0.5241\n",
      "Epoch 49/50\n",
      "50000/50000 [==============================] - 9s 179us/step - loss: 1.2907 - acc: 0.5386 - val_loss: 1.3099 - val_acc: 0.5327\n",
      "Epoch 50/50\n",
      "50000/50000 [==============================] - 9s 179us/step - loss: 1.2887 - acc: 0.5370 - val_loss: 1.3065 - val_acc: 0.5332\n"
     ]
    }
   ],
   "source": [
    "results = {}\n",
    "\"\"\"Code Here\n",
    "撰寫你的訓練流程並將結果用 dictionary 紀錄\n",
    "\"\"\"\n",
    "model = build_mlp(input_shape=x_train.shape[1:], drp_ratio=Dropout_exp)\n",
    "model.summary()\n",
    "optimizer = keras.optimizers.SGD(lr=LearningRate, nesterov=True, momentum=Momentum)\n",
    "model.compile(loss=\"categorical_crossentropy\", metrics=[\"accuracy\"], optimizer=optimizer)\n",
    "\n",
    "model.fit(x_train, y_train, \n",
    "          epochs=Epochs, \n",
    "          batch_size=BatchSize, \n",
    "          validation_data=(x_test, y_test), \n",
    "          shuffle=True)\n",
    "\n",
    "# Collect results\n",
    "train_loss = model.history.history[\"loss\"]\n",
    "valid_loss = model.history.history[\"val_loss\"]\n",
    "train_acc = model.history.history[\"acc\"]\n",
    "valid_acc = model.history.history[\"val_acc\"]"
   ]
  },
  {
   "cell_type": "code",
   "execution_count": 13,
   "metadata": {},
   "outputs": [
    {
     "data": {
      "image/png": "[encoded data removed]",
      "text/plain": [
       "<Figure size 432x288 with 1 Axes>"
      ]
     },
     "metadata": {
      "needs_background": "light"
     },
     "output_type": "display_data"
    },
    {
     "data": {
      "image/png": "[encoded data removed]",
      "text/plain": [
       "<Figure size 432x288 with 1 Axes>"
      ]
     },
     "metadata": {
      "needs_background": "light"
     },
     "output_type": "display_data"
    }
   ],
   "source": [
    "import matplotlib.pyplot as plt\n",
    "%matplotlib inline\n",
    "\"\"\"Code Here\n",
    "將結果繪出\n",
    "\"\"\"\n",
    "plt.plot(range(len(train_loss)), train_loss, label=\"train loss\")\n",
    "plt.plot(range(len(valid_loss)), valid_loss, label=\"valid loss\")\n",
    "plt.legend()\n",
    "plt.title(\"Loss\")\n",
    "plt.show()\n",
    "\n",
    "plt.plot(range(len(train_acc)), train_acc, label=\"train accuracy\")\n",
    "plt.plot(range(len(valid_acc)), valid_acc, label=\"valid accuracy\")\n",
    "plt.legend()\n",
    "plt.title(\"Accuracy\")\n",
    "plt.show()"
   ]
  }
 ],
 "metadata": {
  "kernelspec": {
   "display_name": "Python 3",
   "language": "python",
   "name": "python3"
  },
  "language_info": {
   "codemirror_mode": {
    "name": "ipython",
    "version": 3
   },
   "file_extension": ".py",
   "mimetype": "text/x-python",
   "name": "python",
   "nbconvert_exporter": "python",
   "pygments_lexer": "ipython3",
   "version": "3.6.8"
  }
 },
 "nbformat": 4,
 "nbformat_minor": 2
}
