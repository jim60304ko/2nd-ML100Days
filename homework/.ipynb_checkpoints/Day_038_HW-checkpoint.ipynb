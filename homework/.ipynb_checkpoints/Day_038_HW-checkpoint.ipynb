{
 "cells": [
  {
   "cell_type": "markdown",
   "metadata": {},
   "source": [
    "## [作業重點]\n",
    "使用 Sklearn 中的線性迴歸模型，來訓練各種資料集，務必了解送進去模型訓練的**資料型態**為何，也請了解模型中各項參數的意義"
   ]
  },
  {
   "cell_type": "markdown",
   "metadata": {},
   "source": [
    "## 作業\n",
    "試著使用 sklearn datasets 的其他資料集 (wine, boston, ...)，來訓練自己的線性迴歸模型。"
   ]
  },
  {
   "cell_type": "markdown",
   "metadata": {},
   "source": [
    "### HINT: 注意 label 的型態，確定資料集的目標是分類還是回歸，在使用正確的模型訓練！"
   ]
  },
  {
   "cell_type": "code",
   "execution_count": 1,
   "metadata": {},
   "outputs": [],
   "source": [
    "import numpy as np\n",
    "import matplotlib.pyplot as plt\n",
    "from sklearn import datasets, linear_model\n",
    "from sklearn.model_selection import train_test_split\n",
    "from sklearn.metrics import mean_squared_error, r2_score, accuracy_score"
   ]
  },
  {
   "cell_type": "code",
   "execution_count": 2,
   "metadata": {},
   "outputs": [],
   "source": [
    "wine = datasets.load_wine()\n",
    "boston = datasets.load_boston()\n",
    "breast_cancer = datasets.load_breast_cancer()"
   ]
  },
  {
   "cell_type": "code",
   "execution_count": 3,
   "metadata": {},
   "outputs": [],
   "source": [
    "#建立log and linear regression\n",
    "logReg = linear_model.LogisticRegression()\n",
    "linReg = linear_model.LinearRegression()"
   ]
  },
  {
   "cell_type": "code",
   "execution_count": 4,
   "metadata": {},
   "outputs": [
    {
     "name": "stdout",
     "output_type": "stream",
     "text": [
      "0.9444444444444444\n"
     ]
    },
    {
     "name": "stderr",
     "output_type": "stream",
     "text": [
      "C:\\Users\\jim60\\Anaconda3\\lib\\site-packages\\sklearn\\linear_model\\logistic.py:433: FutureWarning: Default solver will be changed to 'lbfgs' in 0.22. Specify a solver to silence this warning.\n",
      "  FutureWarning)\n",
      "C:\\Users\\jim60\\Anaconda3\\lib\\site-packages\\sklearn\\linear_model\\logistic.py:460: FutureWarning: Default multi_class will be changed to 'auto' in 0.22. Specify the multi_class option to silence this warning.\n",
      "  \"this warning.\", FutureWarning)\n"
     ]
    }
   ],
   "source": [
    "wine_x_train, wine_x_test, wine_y_train, wine_y_test = train_test_split(wine.data, wine.target, test_size=0.1, random_state=4)\n",
    "logReg.fit(wine_x_train,wine_y_train)\n",
    "wine_y_pred = logReg.predict(wine_x_test)\n",
    "acc = accuracy_score(wine_y_test,wine_y_pred)\n",
    "print(acc)"
   ]
  },
  {
   "cell_type": "code",
   "execution_count": 8,
   "metadata": {},
   "outputs": [],
   "source": [
    "boston_x_train, boston_x_test, boston_y_train, boston_y_test = train_test_split(boston.data, boston.target, test_size=0.1, random_state=4)\n",
    "linReg.fit(boston_x_train,boston_y_train)\n",
    "boston_y_pred = linReg.predict(boston_x_test)"
   ]
  },
  {
   "cell_type": "code",
   "execution_count": 17,
   "metadata": {},
   "outputs": [
    {
     "name": "stdout",
     "output_type": "stream",
     "text": [
      "Coefficients:  [ 1.68835597e-01 -2.47104416e-04 -1.40455380e-02 -5.28945672e-04\n",
      " -8.75672914e-01  3.69533926e+00 -1.50766134e+00 -1.00150567e+00\n",
      "  2.06985795e-01 -2.21306041e+00 -5.52724261e-01  3.21126180e-02\n",
      "  3.22937249e-02  1.13272268e-03 -1.82622595e+01 -9.76169145e-01\n",
      "  3.63416824e+00 -1.31316890e+01 -9.83129744e-01  1.52838890e+01\n",
      " -2.02142885e-01 -1.14860447e-02  9.09100946e-04  1.12968308e-03\n",
      "  1.10041018e-01  1.55490914e-01 -4.55942288e-01 -1.22118889e-01\n",
      " -7.62376123e-01 -4.88123450e+00]\n",
      "Mean squared error: 17.04\n"
     ]
    }
   ],
   "source": [
    "# 可以看回歸模型的參數值\n",
    "print('Coefficients: ', linReg.coef_)\n",
    "\n",
    "# 預測值與實際值的差距，使用 MSE\n",
    "print(\"Mean squared error: %.2f\"\n",
    "      % mean_squared_error(boston_y_test, boston_y_pred))"
   ]
  },
  {
   "cell_type": "code",
   "execution_count": 19,
   "metadata": {},
   "outputs": [
    {
     "name": "stdout",
     "output_type": "stream",
     "text": [
      "0.8771929824561403\n"
     ]
    },
    {
     "name": "stderr",
     "output_type": "stream",
     "text": [
      "C:\\Users\\jim60\\Anaconda3\\lib\\site-packages\\sklearn\\linear_model\\logistic.py:433: FutureWarning: Default solver will be changed to 'lbfgs' in 0.22. Specify a solver to silence this warning.\n",
      "  FutureWarning)\n"
     ]
    }
   ],
   "source": [
    "bc_x_train, bc_x_test, bc_y_train, bc_y_test = train_test_split(breast_cancer.data, breast_cancer.target, test_size=0.1, random_state=4)\n",
    "logReg.fit(bc_x_train,bc_y_train)\n",
    "bc_y_pred = logReg.predict(bc_x_test)\n",
    "accBC = accuracy_score(bc_y_test,bc_y_pred)\n",
    "print(accBC)"
   ]
  }
 ],
 "metadata": {
  "kernelspec": {
   "display_name": "Python 3",
   "language": "python",
   "name": "python3"
  },
  "language_info": {
   "codemirror_mode": {
    "name": "ipython",
    "version": 3
   },
   "file_extension": ".py",
   "mimetype": "text/x-python",
   "name": "python",
   "nbconvert_exporter": "python",
   "pygments_lexer": "ipython3",
   "version": "3.7.3"
  }
 },
 "nbformat": 4,
 "nbformat_minor": 2
}
